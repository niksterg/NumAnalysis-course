{
  "cells": [
    {
      "cell_type": "code",
      "source": [
        "from __future__ import print_function, division\n",
        "import numpy as np\n",
        "import matplotlib\n",
        "import matplotlib.pyplot as plt\n",
        "import matplotlib.ticker as ticker"
      ],
      "outputs": [],
      "execution_count": 2,
      "metadata": {
        "execution": {
          "iopub.status.busy": "2022-04-14T14:04:49.812Z",
          "iopub.execute_input": "2022-04-14T14:04:49.817Z",
          "shell.execute_reply": "2022-04-14T14:04:50.614Z",
          "iopub.status.idle": "2022-04-14T14:04:50.607Z"
        }
      }
    },
    {
      "cell_type": "markdown",
      "source": [
        "### Exercise 2: Linear Interpolation\n",
        "\n",
        "Find a root of the equation $2x+3\\tan(x/4)-e^x=0$ with the linear interpolation method."
      ],
      "metadata": {
        "slideshow": {
          "slide_type": "fragment"
        }
      }
    },
    {
      "cell_type": "code",
      "source": [
        "def f1(x):\n",
        "    return 2*x+3*np.tan(x/4) - np.exp(x)"
      ],
      "outputs": [],
      "execution_count": 3,
      "metadata": {
        "execution": {
          "iopub.status.busy": "2022-04-14T14:04:57.889Z",
          "iopub.execute_input": "2022-04-14T14:04:57.894Z",
          "iopub.status.idle": "2022-04-14T14:04:57.900Z",
          "shell.execute_reply": "2022-04-14T14:04:57.907Z"
        }
      }
    },
    {
      "cell_type": "code",
      "source": [
        "\n",
        "solution = []\n",
        "solution.append(0.5)\n",
        "solution.append(1.0)\n",
        "\n",
        "error_li= [1]  # initialize\n",
        "error_li.append(solution[1]-solution[0])\n",
        "\n",
        "it = 1\n",
        "\n",
        "while error_li[it] > 1e-12 :\n",
        "    xnew = solution[it] - f1(solution[it])*(solution[it]-solution[it-1])/(f1(solution[it])-f1(solution[it-1]))\n",
        "    solution.append(xnew)\n",
        "    \n",
        "    error_li.append(np.abs(xnew - solution[it]))\n",
        "    it = it+1\n",
        "\n",
        "    print('%.d  %.15f  %.15e ' % (it, solution[it], error_li[it]))\n",
        "\n",
        "N = len(solution)"
      ],
      "outputs": [
        {
          "output_type": "stream",
          "name": "stdout",
          "text": [
            "2  0.925283308823544  7.471669117645552e-02 \n",
            "3  0.728705139069072  1.965781697544725e-01 \n",
            "4  0.855118842720232  1.264137036511603e-01 \n",
            "5  0.837829706411802  1.728913630843054e-02 \n",
            "6  0.833328042656420  4.501663755381635e-03 \n",
            "7  0.833557841450805  2.297987943850055e-04 \n",
            "8  0.833555580527250  2.260923555041927e-06 \n",
            "9  0.833555579343455  1.183795061976411e-09 \n",
            "10  0.833555579343461  6.439293542825908e-15 \n"
          ]
        }
      ],
      "execution_count": 4,
      "metadata": {
        "collapsed": true,
        "jupyter": {
          "source_hidden": false,
          "outputs_hidden": false
        },
        "nteract": {
          "transient": {
            "deleting": false
          }
        },
        "execution": {
          "iopub.status.busy": "2022-04-14T14:05:03.832Z",
          "iopub.execute_input": "2022-04-14T14:05:03.837Z",
          "iopub.status.idle": "2022-04-14T14:05:03.851Z",
          "shell.execute_reply": "2022-04-14T14:05:03.855Z"
        }
      }
    },
    {
      "cell_type": "code",
      "source": [
        "fig, ax = plt.subplots()\n",
        "ax.plot(np.abs(error_li))\n",
        "ax.set_yscale('log')\n",
        "ax.set(xlabel='iteration', ylabel='error')\n",
        "ax.grid()\n",
        "plt.ylim(bottom=1e-12)\n",
        "plt.show()"
      ],
      "outputs": [
        {
          "output_type": "display_data",
          "data": {
            "text/plain": "<Figure size 432x288 with 1 Axes>",
            "image/png": "[encoded data removed]"
          },
          "metadata": {
            "needs_background": "light"
          }
        }
      ],
      "execution_count": 5,
      "metadata": {
        "collapsed": true,
        "jupyter": {
          "source_hidden": false,
          "outputs_hidden": false
        },
        "nteract": {
          "transient": {
            "deleting": false
          }
        },
        "execution": {
          "iopub.status.busy": "2022-04-14T14:05:12.101Z",
          "iopub.execute_input": "2022-04-14T14:05:12.107Z",
          "iopub.status.idle": "2022-04-14T14:05:12.551Z",
          "shell.execute_reply": "2022-04-14T14:05:12.559Z"
        }
      }
    },
    {
      "cell_type": "code",
      "source": [
        "def df1(x):\n",
        "    return 2+ 3/(4*(np.cos(x/4))**2) - np.exp(x)"
      ],
      "outputs": [],
      "execution_count": 6,
      "metadata": {
        "collapsed": true,
        "jupyter": {
          "source_hidden": false,
          "outputs_hidden": false
        },
        "nteract": {
          "transient": {
            "deleting": false
          }
        },
        "execution": {
          "iopub.status.busy": "2022-04-14T14:05:17.018Z",
          "iopub.execute_input": "2022-04-14T14:05:17.023Z",
          "iopub.status.idle": "2022-04-14T14:05:17.031Z",
          "shell.execute_reply": "2022-04-14T14:05:17.036Z"
        }
      }
    },
    {
      "cell_type": "code",
      "source": [
        "def ddf1(x):\n",
        "    return (3/8)*np.tan(x/4)/(np.cos(x/4))**2 - np.exp(x)"
      ],
      "outputs": [],
      "execution_count": 7,
      "metadata": {
        "collapsed": true,
        "jupyter": {
          "source_hidden": false,
          "outputs_hidden": false
        },
        "nteract": {
          "transient": {
            "deleting": false
          }
        },
        "execution": {
          "iopub.status.busy": "2022-04-14T14:05:18.685Z",
          "iopub.execute_input": "2022-04-14T14:05:18.689Z",
          "iopub.status.idle": "2022-04-14T14:05:18.700Z",
          "shell.execute_reply": "2022-04-14T14:05:18.706Z"
        }
      }
    },
    {
      "cell_type": "code",
      "source": [
        "final_solution = solution[N-1]\n",
        "\n",
        "m = (1+np.sqrt(5))/2\n",
        "\n",
        "error_n = [None]*N\n",
        "error_nplus1 = [None]*N\n",
        "error_nplus1_theory = [None]*N\n",
        "\n",
        "for i in range (0, N-2):\n",
        "    error_n[i] = abs(final_solution - solution[i])\n",
        "    error_nplus1[i] = abs(final_solution - solution[i+1])\n",
        "    k = pow(abs(ddf1(solution[i+1])/(2*df1(solution[i+1]))),1/m)\n",
        "    error_nplus1_theory[i] = k*error_n[i]**m\n",
        "\n",
        "fig, ax = plt.subplots()\n",
        "ax.plot(error_n, error_nplus1_theory, label='theorical convergence')\n",
        "ax.plot(error_n,error_nplus1, label='numerical convergence')\n",
        "ax.set_yscale('log')\n",
        "ax.set_xscale('log')\n",
        "ax.set(xlabel='error_n', ylabel='error_n+1')\n",
        "ax.grid()\n",
        "plt.legend()\n",
        "plt.show()"
      ],
      "outputs": [
        {
          "output_type": "display_data",
          "data": {
            "text/plain": "<Figure size 432x288 with 1 Axes>",
            "image/png": "[encoded data removed]"
          },
          "metadata": {
            "needs_background": "light"
          }
        }
      ],
      "execution_count": 8,
      "metadata": {
        "collapsed": true,
        "jupyter": {
          "source_hidden": false,
          "outputs_hidden": false
        },
        "nteract": {
          "transient": {
            "deleting": false
          }
        },
        "execution": {
          "iopub.status.busy": "2022-04-14T14:05:19.465Z",
          "iopub.execute_input": "2022-04-14T14:05:19.469Z",
          "iopub.status.idle": "2022-04-14T14:05:19.665Z",
          "shell.execute_reply": "2022-04-14T14:05:19.673Z"
        }
      }
    },
    {
      "cell_type": "code",
      "source": [
        "\n"
      ],
      "outputs": [],
      "execution_count": 8,
      "metadata": {
        "collapsed": true,
        "jupyter": {
          "source_hidden": false,
          "outputs_hidden": false
        },
        "nteract": {
          "transient": {
            "deleting": false
          }
        },
        "execution": {
          "iopub.status.busy": "2022-04-14T14:05:20.975Z",
          "iopub.execute_input": "2022-04-14T14:05:20.980Z",
          "iopub.status.idle": "2022-04-14T14:05:20.987Z",
          "shell.execute_reply": "2022-04-14T14:05:20.992Z"
        }
      }
    },
    {
      "cell_type": "code",
      "source": [],
      "outputs": [],
      "execution_count": null,
      "metadata": {
        "collapsed": true,
        "jupyter": {
          "source_hidden": false,
          "outputs_hidden": false
        },
        "nteract": {
          "transient": {
            "deleting": false
          }
        }
      }
    }
  ],
  "metadata": {
    "kernelspec": {
      "name": "igwn-py39",
      "language": "python",
      "display_name": "igwn-py39"
    },
    "language_info": {
      "name": "python",
      "version": "3.9.7",
      "mimetype": "text/x-python",
      "codemirror_mode": {
        "name": "ipython",
        "version": 3
      },
      "pygments_lexer": "ipython3",
      "nbconvert_exporter": "python",
      "file_extension": ".py"
    },
    "toc": {
      "toc_position": {},
      "skip_h1_title": false,
      "number_sections": true,
      "title_cell": "Table of Contents",
      "toc_window_display": false,
      "base_numbering": 1,
      "toc_section_display": true,
      "title_sidebar": "Contents",
      "toc_cell": false,
      "nav_menu": {},
      "sideBar": true
    },
    "varInspector": {
      "cols": {
        "lenName": 16,
        "lenType": 16,
        "lenVar": 40
      },
      "kernels_config": {
        "python": {
          "delete_cmd_postfix": "",
          "delete_cmd_prefix": "del ",
          "library": "var_list.py",
          "varRefreshCmd": "print(var_dic_list())"
        },
        "r": {
          "delete_cmd_postfix": ") ",
          "delete_cmd_prefix": "rm(",
          "library": "var_list.r",
          "varRefreshCmd": "cat(var_dic_list()) "
        }
      },
      "types_to_exclude": [
        "module",
        "function",
        "builtin_function_or_method",
        "instance",
        "_Feature"
      ],
      "window_display": false
    },
    "kernel_info": {
      "name": "igwn-py39"
    },
    "nteract": {
      "version": "0.28.0"
    }
  },
  "nbformat": 4,
  "nbformat_minor": 1
}